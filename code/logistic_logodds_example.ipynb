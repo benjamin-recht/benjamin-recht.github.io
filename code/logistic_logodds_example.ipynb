{
 "cells": [
  {
   "cell_type": "code",
   "execution_count": 1,
   "metadata": {},
   "outputs": [],
   "source": [
    "import numpy as np\n",
    "import statsmodels.api as sm\n",
    "from statsmodels.tools import add_constant\n",
    "from matplotlib import pyplot"
   ]
  },
  {
   "cell_type": "markdown",
   "metadata": {},
   "source": [
    "True model is\n",
    "\n",
    "$$\n",
    "\\mathbb{E}[Y|X,Z] = \\delta_p X + p_{\\mathrm{hi}}Z+(1-Z)p_{\\mathrm{lo}}\n",
    "$$\n",
    "\n",
    "$X$ is the treatment variable, $Z$ the covariate. Both $X$ and $Z$ are independent Bernoulli variables with probability of $1$ equal to $\\tfrac{1}{2}$."
   ]
  },
  {
   "cell_type": "code",
   "execution_count": 2,
   "metadata": {},
   "outputs": [
    {
     "name": "stdout",
     "output_type": "stream",
     "text": [
      "Population log odds = 0.20\n",
      "Population odds ratio = 1.22\n"
     ]
    }
   ],
   "source": [
    "ntrials = 1000 # number of times to run the experiment\n",
    "n = 10000 # number of samples from the population per experiment\n",
    "\n",
    "p_hi = 0.8 # probability of success in the high probability subpopulation\n",
    "p_lo = 0.2 # probability of success in the low probability subpopulation\n",
    "delta_p = 0.05 # effect size\n",
    "\n",
    "# probability of success under treatment\n",
    "P_T = delta_p + 0.5*p_hi+0.5*p_lo\n",
    "# probability of success under control\n",
    "P_C = 0.5*p_hi+0.5*p_lo\n",
    "\n",
    "pop_log_odds = np.log(P_T/(1-P_T))-np.log(P_C/(1-P_C))\n",
    "print(\"Population log odds = {:.2f}\".format(pop_log_odds))\n",
    "print(\"Population odds ratio = {:.2f}\".format(np.exp(pop_log_odds)))"
   ]
  },
  {
   "cell_type": "code",
   "execution_count": 3,
   "metadata": {},
   "outputs": [
    {
     "name": "stdout",
     "output_type": "stream",
     "text": [
      "L O G I S T I C   R E G R E S S I O N\n",
      "------------------------------------------\n",
      "Median estimate of treatment coefficient = 0.31\n",
      "Median estimated odds ratio from logistic = 1.37\n",
      "Confidence interval contains population log-odds 38% of the time\n",
      "\n",
      "\n",
      "P L U G I N   E S T I M A T O R\n",
      "------------------------------------------\n",
      "Median plugin estimate of log odds = 0.20\n",
      "Median estimated odds ratio from plugin = 1.22\n"
     ]
    }
   ],
   "source": [
    "'''\n",
    "Run ntrials experiments where we sample n individuals from the population, fit a logistic model predicting Y \n",
    "from (X,Z), and then using the coefficient of X as an estimate of the log odds. Display the average point \n",
    "estimate and the frequency in which the true log odds falls in the 95% confidence interval. Also compute a \n",
    "plug-in estimate of the log odds for comparison.\n",
    "'''\n",
    "\n",
    "success_count=np.zeros(ntrials)\n",
    "beta_est = np.empty(ntrials)\n",
    "logistic_odds_ratio_est = np.empty(ntrials)\n",
    "plug_in_odds_ratio_est= np.empty(ntrials)\n",
    "\n",
    "for i in range(ntrials):\n",
    "    # generate covariate and treatment variables and compute conditional outcome probabilities\n",
    "    covariate = np.random.binomial(1,0.5,n)\n",
    "    treatment = np.random.binomial(1,0.5,n)\n",
    "    prob = delta_p*treatment + (p_hi-p_lo)*covariate + p_lo\n",
    "    \n",
    "    # generate outcomes\n",
    "    outcome = np.random.binomial(1, prob)\n",
    "\n",
    "    # run logistic regression and compute confidence intervals\n",
    "    features = add_constant(np.hstack((treatment[:,None],covariate[:,None])))\n",
    "    model = sm.Logit(outcome, features).fit(disp=0)\n",
    "\n",
    "    beta_est[i] = model.params[1]\n",
    "    logistic_odds_ratio_est[i] = np.exp(model.params[1])\n",
    "    lower_int = model.conf_int(alpha=0.05, cols=None)[1,0]   \n",
    "    if lower_int<pop_log_odds:\n",
    "        success_count[i]=1\n",
    "    \n",
    "    # plugin estimator\n",
    "    P_T_est = np.sum(treatment*outcome)/np.sum(treatment)\n",
    "    P_C_est = np.sum((1-treatment)*outcome)/np.sum(1-treatment)  \n",
    "    plug_in_odds_ratio_est[i]= np.log(P_T_est/(1-P_T_est))-np.log(P_C_est/(1-P_C_est))\n",
    "\n",
    "print(\"L O G I S T I C   R E G R E S S I O N\")\n",
    "print(\"------------------------------------------\")\n",
    "print(\"Median estimate of treatment coefficient = {:.2f}\".format(np.median(beta_est)))\n",
    "print(\"Median estimated odds ratio from logistic = {:.2f}\".format(np.median(logistic_odds_ratio_est)))\n",
    "print(\"Confidence interval contains population log-odds {:.0f}% of the time\".format(100*np.mean(success_count)))\n",
    "\n",
    "print(\"\\n\\nP L U G I N   E S T I M A T O R\")\n",
    "print(\"------------------------------------------\")\n",
    "print(\"Median plugin estimate of log odds = {:.2f}\".format(np.median(plug_in_odds_ratio_est)))\n",
    "print(\"Median estimated odds ratio from plugin = {:.2f}\".format(np.median(np.exp(plug_in_odds_ratio_est))))"
   ]
  },
  {
   "cell_type": "code",
   "execution_count": 4,
   "metadata": {},
   "outputs": [
    {
     "data": {
      "image/png": "[encoded data removed]",
      "text/plain": [
       "<Figure size 432x288 with 1 Axes>"
      ]
     },
     "metadata": {
      "needs_background": "light"
     },
     "output_type": "display_data"
    }
   ],
   "source": [
    "bins = np.linspace(0, .5, 50)\n",
    "\n",
    "pyplot.hist(beta_est, bins, alpha=0.5, label='logistic estimate')\n",
    "pyplot.hist(plug_in_odds_ratio_est, bins, alpha=0.5, label='plugin estimate')\n",
    "pyplot.plot([0.2,0.2],[0,100],color=[0,0,0])\n",
    "pyplot.legend(loc='upper right')\n",
    "pyplot.show()"
   ]
  },
  {
   "cell_type": "code",
   "execution_count": null,
   "metadata": {},
   "outputs": [],
   "source": []
  }
 ],
 "metadata": {
  "kernelspec": {
   "display_name": "Python 3",
   "language": "python",
   "name": "python3"
  },
  "language_info": {
   "codemirror_mode": {
    "name": "ipython",
    "version": 3
   },
   "file_extension": ".py",
   "mimetype": "text/x-python",
   "name": "python",
   "nbconvert_exporter": "python",
   "pygments_lexer": "ipython3",
   "version": "3.7.6"
  }
 },
 "nbformat": 4,
 "nbformat_minor": 4
}
