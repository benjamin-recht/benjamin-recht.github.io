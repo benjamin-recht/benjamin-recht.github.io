{
 "cells": [
  {
   "cell_type": "code",
   "execution_count": 1,
   "metadata": {},
   "outputs": [],
   "source": [
    "import numpy as np\n",
    "import statsmodels.api as sm\n",
    "from statsmodels.tools import add_constant\n",
    "from matplotlib import pyplot"
   ]
  },
  {
   "cell_type": "code",
   "execution_count": 2,
   "metadata": {},
   "outputs": [],
   "source": [
    "def logistic_map(x):\n",
    "    return np.exp(x)/(1+np.exp(x))\n",
    "\n",
    "def logistic_inv(x):\n",
    "    return np.log(x/(1-x))\n",
    "\n",
    "def print_population_log_odds(P_T,P_C):\n",
    "    pop_log_odds = logistic_inv(P_T)-logistic_inv(P_C)\n",
    "    print(\"P O P U L A T I O N\")\n",
    "    print(\"------------------------------------------\")\n",
    "    print(\"Population log odds = {:.2f}\".format(pop_log_odds))\n",
    "    print(\"Population odds ratio = {:.2f}\\n\\n\".format(np.exp(pop_log_odds)))\n",
    "    return pop_log_odds\n",
    "\n",
    "def logistic_vs_plugin(sampler,pop_log_odds,ntrials=1000,nsamples=10000):\n",
    "    '''\n",
    "    Run ntrials experiments where we sample n individuals from the population, fit a \n",
    "    logistic model predicting Y from (X,Z), and then using the coefficient of X as an \n",
    "    estimate of the log odds. Display the average point estimate and the frequency in \n",
    "    which the true log odds falls in the 95% confidence interval. Also compute a \n",
    "    plug-in estimate of the log odds for comparison.\n",
    "\n",
    "    sampler: method that produces n samples from the generative model of (X,Z,Y)\n",
    "    pop_log_odds: true population log odds\n",
    "    ntrials : number of times to run the experiment\n",
    "    nsamples:  number of samples from the population per experiment\n",
    "    '''\n",
    "\n",
    "    success_count=np.zeros(ntrials)\n",
    "    beta_est = np.empty(ntrials)\n",
    "    logistic_odds_ratio_est = np.empty(ntrials)\n",
    "    plug_in_log_odds_est= np.empty(ntrials)\n",
    "    for i in range(ntrials):\n",
    "\n",
    "        # sample nsamples from the distribution\n",
    "        covariate,treatment,outcome = sampler(nsamples)\n",
    "\n",
    "        # run logistic regression and compute confidence intervals\n",
    "        features = add_constant(np.hstack((treatment[:,None],covariate[:,None])))\n",
    "        model = sm.Logit(outcome, features).fit(disp=0)\n",
    "\n",
    "        beta_est[i] = model.params[1]\n",
    "        logistic_odds_ratio_est[i] = np.exp(model.params[1])\n",
    "        lower_int = model.conf_int(alpha=0.05, cols=None)[1,0]   \n",
    "        if lower_int<pop_log_odds:\n",
    "            success_count[i]=1\n",
    "\n",
    "        # plugin estimator\n",
    "        P_T_est = np.sum(treatment*outcome)/np.sum(treatment)\n",
    "        P_C_est = np.sum((1-treatment)*outcome)/np.sum(1-treatment)  \n",
    "        plug_in_log_odds_est[i]= np.log(P_T_est/(1-P_T_est))-np.log(P_C_est/(1-P_C_est))\n",
    "\n",
    "\n",
    "    print(\"L O G I S T I C   R E G R E S S I O N\")\n",
    "    print(\"------------------------------------------\")\n",
    "    print(\"Median estimate of treatment coefficient = {:.2f}\".format(np.median(beta_est)))\n",
    "    print(\"Median estimated odds ratio from logistic = {:.2f}\".format(np.median(logistic_odds_ratio_est)))\n",
    "    print(\"Confidence interval contains population log-odds {:.0f}% of the time\\n\\n\".format(100*np.mean(success_count)))\n",
    "\n",
    "    print(\"P L U G I N   E S T I M A T O R\")\n",
    "    print(\"------------------------------------------\")\n",
    "    print(\"Median plugin estimate of log odds = {:.2f}\".format(np.median(plug_in_log_odds_est)))\n",
    "    print(\"Median estimated odds ratio from plugin = {:.2f}\\n\\n\".format(np.median(np.exp(plug_in_log_odds_est))))\n",
    "\n",
    "    # plot a histogram of the estimates\n",
    "    bins = np.linspace(0, 1.1*np.amax(beta_est), 50)\n",
    "\n",
    "    pyplot.hist(beta_est, bins, alpha=0.5, label='logistic estimate')\n",
    "    pyplot.hist(plug_in_log_odds_est, bins, alpha=0.5, label='plugin estimate')\n",
    "    pyplot.plot([pop_log_odds,pop_log_odds],[0,100],color=[0,0,0])\n",
    "    pyplot.legend(loc='upper right')\n",
    "    pyplot.show()"
   ]
  },
  {
   "cell_type": "markdown",
   "metadata": {},
   "source": [
    "# Example 1: An additive model\n",
    "\n",
    "True model is\n",
    "\n",
    "$$\n",
    "\\mathbb{E}[Y|X,Z] = \\delta_p X + p_{\\mathrm{hi}}Z+(1-Z)p_{\\mathrm{lo}}\n",
    "$$\n",
    "\n",
    "$X$ is the treatment variable, $Z$ the covariate. Both $X$ and $Z$ are independent Bernoulli variables with probability of $1$ equal to $\\tfrac{1}{2}$."
   ]
  },
  {
   "cell_type": "code",
   "execution_count": 3,
   "metadata": {},
   "outputs": [],
   "source": [
    "p_hi = 0.8 # probability of success in the high probability subpopulation\n",
    "p_lo = 0.2 # probability of success in the low probability subpopulation\n",
    "delta_p = 0.05 # effect size\n",
    "\n",
    "# probability of success under treatment\n",
    "P_T_additive = delta_p + 0.5*p_hi+0.5*p_lo\n",
    "# probability of success under control\n",
    "P_C_additive = 0.5*p_hi+0.5*p_lo\n",
    "\n",
    "def sample_additive_model(n):\n",
    "    # generate covariate and treatment variables and compute conditional outcome probabilities\n",
    "    covariate = np.random.binomial(1,0.5,n)\n",
    "    treatment = np.random.binomial(1,0.5,n)\n",
    "    prob = delta_p*treatment + (p_hi-p_lo)*covariate + p_lo\n",
    "    outcome = np.random.binomial(1, prob)\n",
    "    return covariate,treatment,outcome"
   ]
  },
  {
   "cell_type": "code",
   "execution_count": 4,
   "metadata": {},
   "outputs": [
    {
     "name": "stdout",
     "output_type": "stream",
     "text": [
      "P O P U L A T I O N\n",
      "------------------------------------------\n",
      "Population log odds = 0.20\n",
      "Population odds ratio = 1.22\n",
      "\n",
      "\n",
      "L O G I S T I C   R E G R E S S I O N\n",
      "------------------------------------------\n",
      "Median estimate of treatment coefficient = 0.32\n",
      "Median estimated odds ratio from logistic = 1.37\n",
      "Confidence interval contains population log-odds 38% of the time\n",
      "\n",
      "\n",
      "P L U G I N   E S T I M A T O R\n",
      "------------------------------------------\n",
      "Median plugin estimate of log odds = 0.20\n",
      "Median estimated odds ratio from plugin = 1.22\n",
      "\n",
      "\n"
     ]
    },
    {
     "data": {
      "image/png": "[encoded data removed]",
      "text/plain": [
       "<Figure size 432x288 with 1 Axes>"
      ]
     },
     "metadata": {
      "needs_background": "light"
     },
     "output_type": "display_data"
    }
   ],
   "source": [
    "pop_log_odds_additive=print_population_log_odds(P_T_additive,P_C_additive)\n",
    "logistic_vs_plugin(sample_additive_model,pop_log_odds_additive)"
   ]
  },
  {
   "cell_type": "markdown",
   "metadata": {},
   "source": [
    "# Example 2: An actual logistic model\n",
    "\n",
    "True model is\n",
    "\n",
    "$$\n",
    "\\log \\frac {\\mathbb{P}[Y=1|X,Z]}{1-\\mathbb{P}[Y=1|X,Z]} = \\alpha + \\beta X + \\gamma Z\n",
    "$$\n",
    "\n",
    "$X$ is the treatment variable, $Z$ the covariate. Both $X$ and $Z$ are independent Bernoulli variables with probability of $1$ equal to $\\tfrac{1}{2}$."
   ]
  },
  {
   "cell_type": "code",
   "execution_count": 5,
   "metadata": {},
   "outputs": [],
   "source": [
    "# logistic model parameters\n",
    "alpha_true = -1.5 \n",
    "beta_true =  0.4 \n",
    "gamma_true =  3.0\n",
    "\n",
    "# probability of success under treatment\n",
    "p_hi_T = logistic_map(alpha_true+beta_true+gamma_true)\n",
    "p_lo_T = logistic_map(alpha_true+beta_true)\n",
    "P_T_logistic = 0.5*p_hi_T+0.5*p_lo_T\n",
    "\n",
    "# probability of success under control\n",
    "p_hi_C = logistic_map(alpha_true+gamma_true)\n",
    "p_lo_C = logistic_map(alpha_true)\n",
    "P_C_logistic = 0.5*p_hi_C+0.5*p_lo_C\n",
    "\n",
    "def sample_logistic_model(n):\n",
    "    # generate covariate and treatment variables and compute conditional outcome probabilities\n",
    "    covariate = np.random.binomial(1,0.5,n)\n",
    "    treatment = np.random.binomial(1,0.5,n)\n",
    "    prob = logistic_map(alpha_true + beta_true*treatment + gamma_true*covariate)\n",
    "    outcome = np.random.binomial(1, prob)\n",
    "    return covariate,treatment,outcome\n"
   ]
  },
  {
   "cell_type": "code",
   "execution_count": 6,
   "metadata": {},
   "outputs": [
    {
     "name": "stdout",
     "output_type": "stream",
     "text": [
      "P O P U L A T I O N\n",
      "------------------------------------------\n",
      "Population log odds = 0.24\n",
      "Population odds ratio = 1.27\n",
      "\n",
      "\n",
      "L O G I S T I C   R E G R E S S I O N\n",
      "------------------------------------------\n",
      "Median estimate of treatment coefficient = 0.40\n",
      "Median estimated odds ratio from logistic = 1.49\n",
      "Confidence interval contains population log-odds 13% of the time\n",
      "\n",
      "\n",
      "P L U G I N   E S T I M A T O R\n",
      "------------------------------------------\n",
      "Median plugin estimate of log odds = 0.24\n",
      "Median estimated odds ratio from plugin = 1.27\n",
      "\n",
      "\n"
     ]
    },
    {
     "data": {
      "image/png": "[encoded data removed]",
      "text/plain": [
       "<Figure size 432x288 with 1 Axes>"
      ]
     },
     "metadata": {
      "needs_background": "light"
     },
     "output_type": "display_data"
    }
   ],
   "source": [
    "pop_log_odds_logistic=print_population_log_odds(P_T_logistic,P_C_logistic)\n",
    "logistic_vs_plugin(sample_logistic_model,pop_log_odds_logistic)"
   ]
  },
  {
   "cell_type": "code",
   "execution_count": null,
   "metadata": {},
   "outputs": [],
   "source": []
  }
 ],
 "metadata": {
  "kernelspec": {
   "display_name": "Python 3",
   "language": "python",
   "name": "python3"
  },
  "language_info": {
   "codemirror_mode": {
    "name": "ipython",
    "version": 3
   },
   "file_extension": ".py",
   "mimetype": "text/x-python",
   "name": "python",
   "nbconvert_exporter": "python",
   "pygments_lexer": "ipython3",
   "version": "3.7.6"
  }
 },
 "nbformat": 4,
 "nbformat_minor": 4
}
