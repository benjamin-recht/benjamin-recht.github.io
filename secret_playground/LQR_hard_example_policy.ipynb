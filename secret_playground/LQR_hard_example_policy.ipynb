{
 "cells": [
  {
   "cell_type": "code",
   "execution_count": 1,
   "metadata": {
    "colab": {
     "autoexec": {
      "startup": false,
      "wait_interval": 0
     }
    },
    "colab_type": "code",
    "collapsed": true,
    "id": "PR2MkX0oqlSp"
   },
   "outputs": [],
   "source": [
    "import numpy as np\n",
    "import matplotlib.pyplot as plt"
   ]
  },
  {
   "cell_type": "markdown",
   "metadata": {
    "colab_type": "text",
    "id": "lsVABkfhqlSt"
   },
   "source": [
    "Here is a link to [py](http://www.argmin.net/code/py)\n"
   ]
  },
  {
   "cell_type": "code",
   "execution_count": 2,
   "metadata": {
    "colab": {
     "autoexec": {
      "startup": false,
      "wait_interval": 0
     }
    },
    "colab_type": "code",
    "collapsed": true,
    "id": "zCmhfiuuqtGG"
   },
   "outputs": [],
   "source": [
    "import numpy as np\n",
    "import scipy.linalg as LA\n",
    "\n",
    "def lqr_gain(A,B,Q,R):\n",
    "  '''\n",
    "  Arguments:\n",
    "    State transition matrices (A,B)\n",
    "    LQR Costs (Q,R)\n",
    "  Outputs:\n",
    "    K: optimal infinite-horizon LQR gain matrix given\n",
    "  '''\n",
    "\n",
    "  # solve DARE:\n",
    "  M=LA.solve_discrete_are(A,B,Q,R)\n",
    "\n",
    "  # K=(B'MB + R)^(-1)*(B'MA)\n",
    "  return np.dot(LA.inv(np.dot(np.dot(B.T,M),B)+R),(np.dot(np.dot(B.T,M),A)))\n",
    "\n",
    "def cost_inf_K(A,B,Q,R,K):\n",
    "  '''\n",
    "    Arguments:\n",
    "      State transition matrices (A,B)\n",
    "      LQR Costs (Q,R)\n",
    "      Control Gain K\n",
    "    Outputs:\n",
    "      cost: Infinite time horizon LQR cost of static gain K\n",
    "  '''\n",
    "  cl_map = A+B.dot(K)\n",
    "  if np.amax(np.abs(LA.eigvals(cl_map)))<(1.0-1.0e-6):\n",
    "    cost = np.trace(LA.solve_discrete_lyapunov(cl_map.T,Q+np.dot(K.T,R.dot(K))))\n",
    "  else:\n",
    "    cost = float(\"inf\")\n",
    "\n",
    "  return cost\n",
    "\n",
    "def cost_finite_model(A_true,B_true,Q,R,x0,T,A_dat,B_dat):\n",
    "  '''\n",
    "    Arguments:\n",
    "      True Model state transition matrices (A_true,B_true)\n",
    "      LQR Costs (Q,R)\n",
    "      Initial State x0\n",
    "      Time Horizon T\n",
    "      Nominal Model state transition matrices (A_dat,B_dat)\n",
    "    Outputs:\n",
    "      cost: finite time horizon LQR cost when control is computed using\n",
    "      (A_dat,B_dat) but executed on system (A_true,B_true)\n",
    "  '''\n",
    "  d,p = B_true.shape\n",
    "\n",
    "  # Ricatti recursion\n",
    "  M = np.zeros((d,d,T))\n",
    "  M[:,:,-1]=Q\n",
    "  for k in range(T-2,-1,-1):\n",
    "    AMA = np.dot(A_dat.T,M[:,:,k+1].dot(A_dat))\n",
    "    AMB = np.dot(A_dat.T,M[:,:,k+1].dot(B_dat))\n",
    "    BMB = np.dot(B_dat.T,M[:,:,k+1].dot(B_dat))\n",
    "    M[:,:,k] = Q + AMA - np.dot(AMB,LA.inv(R+BMB).dot(AMB.T))\n",
    "\n",
    "  # compute contols and costs using these Ricatti iterates\n",
    "  cost = 0\n",
    "  x = x0\n",
    "  for k in range(T):\n",
    "    AMB = np.dot(A_dat.T,M[:,:,k].dot(B_dat))\n",
    "    BMB = np.dot(B_dat.T,M[:,:,k].dot(B_dat))\n",
    "    u = -np.dot(LA.inv(R+BMB),np.dot(AMB.T,x))\n",
    "    x = A_true.dot(x)+B_true.dot(u)\n",
    "    cost = cost+np.dot(x.T,Q.dot(x))+np.dot(u.T,R.dot(u))\n",
    "\n",
    "  return cost.flatten()[0]\n",
    "\n",
    "def cost_finite_K(A_true,B_true,Q,R,x0,T,K):\n",
    "  '''\n",
    "    Arguments:\n",
    "      True Model state transition matrices (A_true,B_true)\n",
    "      LQR Costs (Q,R)\n",
    "      Initial State x0\n",
    "      Time Horizon T\n",
    "      Static Control Gain K\n",
    "    Outputs:\n",
    "      cost: finite time horizon LQR cost when control is static gain K on\n",
    "      system (A_true,B_true)\n",
    "  '''\n",
    "\n",
    "  d,p = B_true.shape\n",
    "\n",
    "  cost = 0\n",
    "  x = x0\n",
    "  for k in range(T):\n",
    "    u = np.dot(K,x)\n",
    "    x = A_true.dot(x)+B_true.dot(u)\n",
    "    cost = cost+np.dot(x.T,Q.dot(x))+np.dot(u.T,R.dot(u))\n",
    "\n",
    "  return cost.flatten()\n",
    "\n",
    "def lsqr_estimator(A,B,Q,R,x0,eq_err,N,T):\n",
    "  '''\n",
    "    Arguments:\n",
    "      state transition matrices (A,B)\n",
    "      LQR Costs (Q,R)\n",
    "      Initial State x0\n",
    "      magnitude of noise in dynamics eq_err\n",
    "      Number of rollouts N\n",
    "      Time Horizon T\n",
    "    Outputs:\n",
    "      Estimated State Transition Matrices (A_nom,B_nom) from least squares\n",
    "  '''\n",
    "\n",
    "  d,p = B.shape\n",
    "\n",
    "  # storage matrices\n",
    "  X_store = np.zeros((d,N,T+1))\n",
    "  U_store = np.zeros((p,N,T))\n",
    "\n",
    "  # simulate\n",
    "  for k in range(N):\n",
    "    x = x0\n",
    "    X_store[:,k,0] = x0.flatten()\n",
    "    for t in range(T):\n",
    "      u = np.random.randn(p,1)\n",
    "      x = A.dot(x)+B.dot(u)+eq_err*np.random.randn(d,1)\n",
    "      X_store[:,k,t+1] = x.flatten()\n",
    "      U_store[:,k,t] = u.flatten()\n",
    "\n",
    "  ### Solve for nominal model\n",
    "  tmp = np.linalg.lstsq(np.vstack((X_store[:,:,0:T].reshape(d,N*T),\n",
    "                                U_store.reshape(p,N*T))).T,\n",
    "                    X_store[:,:,1:(T+1)].reshape(d,N*T).T)[0]\n",
    "  A_nom = tmp[0:d,:].T\n",
    "  B_nom = tmp[d:(d+p),:].T\n",
    "  return (A_nom,B_nom)\n",
    "\n",
    "def random_search_linear_policy(A,B,Q,R,x0,eq_err,N,T,\n",
    "    explore_mag = 0.02, step_size = 0.0025, batch_size = 4):\n",
    "  '''\n",
    "    Arguments:\n",
    "      state transition matrices (A,B)\n",
    "      LQR Costs (Q,R)\n",
    "      Initial State x0\n",
    "      magnitude of noise in dynamics eq_err\n",
    "      Number of rollouts N\n",
    "      Time Horizon T\n",
    "\n",
    "      hyperparameters:\n",
    "        explore_mag = magnitude of the noise to explore\n",
    "        step_size\n",
    "        batch_size = number of directions per minibatches\n",
    "        safeguard: maximum absolute value of entries of controller gain\n",
    "\n",
    "    Outputs:\n",
    "      Static Control Gain K optimized on LQR cost by random search\n",
    "  '''\n",
    "\n",
    "  d,p = B.shape\n",
    "\n",
    "  # initial condition for K\n",
    "  K0 = 0*np.random.randn(p,d)\n",
    "  ###\n",
    "\n",
    "  #### ALGORITHM\n",
    "  K = K0\n",
    "  for k in range(N):\n",
    "    reward_store = []\n",
    "    mini_batch = np.zeros((p,d))\n",
    "    for j in range(batch_size):\n",
    "      V = np.random.randn(p,d)\n",
    "      for sign in [-1,1]:\n",
    "        x = x0\n",
    "        reward = 0\n",
    "        for t in range(T):\n",
    "          u = np.dot(K+sign*explore_mag*V,x)\n",
    "          x = A.dot(x)+B.dot(u)+eq_err*np.random.randn(d,1)\n",
    "          reward += -np.dot(x.T,Q.dot(x))-np.dot(u.T,R.dot(u))\n",
    "        mini_batch += (reward*sign)*V\n",
    "        reward_store.append(reward)\n",
    "    K += (step_size/np.std(reward_store)/batch_size)*mini_batch\n",
    "\n",
    "  return K\n",
    "\n",
    "def uniform_random_linear_policy(A,B,Q,R,x0,eq_err,N,T,linf_norm=3):\n",
    "  '''\n",
    "    Arguments:\n",
    "      state transition matrices (A,B)\n",
    "      LQR Costs (Q,R)\n",
    "      Initial State x0\n",
    "      magnitude of noise in dynamics eq_err\n",
    "      Number of rollouts N\n",
    "      Time Horizon T\n",
    "\n",
    "      hyperparameters\n",
    "          linf_norm = maximum absolute value of entries of controller gain\n",
    "\n",
    "    Outputs:\n",
    "      Static Control Gain K optimized on LQR cost by uniformly sampling policies\n",
    "      in bounded region\n",
    "  '''\n",
    "\n",
    "  d,p = B.shape\n",
    "\n",
    "  #### \"ALGORITHM\"\n",
    "  best_K = np.empty((p,d))\n",
    "  best_reward = -float(\"inf\")\n",
    "  for k in range(N):\n",
    "    K = np.random.uniform(-linf_norm,linf_norm,(p,d))\n",
    "    x = x0\n",
    "    reward = 0\n",
    "    for t in range(T):\n",
    "      u = np.dot(K,x)\n",
    "      x = A.dot(x)+B.dot(u)+eq_err*np.random.randn(d,1)\n",
    "      reward += -np.dot(x.T,Q.dot(x))-np.dot(u.T,R.dot(u))\n",
    "    if reward>best_reward:\n",
    "        best_reward = reward\n",
    "        best_K = K\n",
    "\n",
    "  return best_K\n",
    "\n",
    "import tensorflow as tf\n",
    "\n",
    "def policy_gradient_adam_linear_policy_pavel(A,B,Q,R,x0,eq_err,N,T,\n",
    "  explore_mag=0.1, step_size = 0.05, batch_size = 8):\n",
    "  '''\n",
    "    Arguments:\n",
    "      state transition matrices (A,B)\n",
    "      LQR Costs (Q,R)\n",
    "      Initial State x0\n",
    "      magnitude of noise in dynamics eq_err\n",
    "      Number of rollouts N\n",
    "      Time Horizon T\n",
    "\n",
    "      hyperparameters\n",
    "         explore_mag magnitude of the noise to explore\n",
    "         step_size\n",
    "         batch_size: number of stochastic gradients per minibatch\n",
    "         safeguard: maximum absolute value of entries of controller gain\n",
    "\n",
    "    Outputs:\n",
    "      Static Control Gain K optimized on LQR cost by Policy Gradient\n",
    "  '''\n",
    "  \n",
    "  A = A.astype('float32')\n",
    "  B = B.astype('float32')\n",
    "  R = R.astype('float32')\n",
    "  Q = Q.astype('float32')\n",
    "\n",
    "  # d is obviously the dimension of the observation.\n",
    "  # p is the dimension of the action, as the name suggests.\n",
    "  d,p = B.shape\n",
    "  \n",
    "  tf.reset_default_graph()\n",
    "  K = tf.get_variable(\n",
    "      'policy', shape=[p, d], initializer=tf.zeros_initializer())\n",
    "\n",
    "  def _policy(x):\n",
    "    loc = tf.einsum('ijk,lk->ijl', x, K)\n",
    "    scale = explore_mag\n",
    "    return tf.distributions.Normal(loc=loc, scale=scale)\n",
    "\n",
    "  # Training,\n",
    "  rewards = tf.placeholder(dtype=tf.float32, shape=[batch_size])\n",
    "  actions = tf.placeholder(dtype=tf.float32, shape=[batch_size, T, p])\n",
    "  states = tf.placeholder(dtype=tf.float32, shape=[batch_size, T, d])\n",
    "  action_dist = _policy(states)\n",
    "  # Log prob of the sequence of actions.\n",
    "  log_prob = tf.reduce_sum(\n",
    "      action_dist.log_prob(tf.stop_gradient(actions)), [1, 2])\n",
    "  advantage = rewards - tf.reduce_mean(rewards)\n",
    "  loss = -tf.reduce_mean(advantage * log_prob)\n",
    "  train_op = tf.train.AdamOptimizer(step_size).minimize(loss)\n",
    "  \n",
    "  # Playing.\n",
    "  state = tf.placeholder(dtype=tf.float32, shape=[batch_size, d])\n",
    "  action = tf.squeeze(_policy(\n",
    "      tf.expand_dims(state, 1)).sample(), 1)\n",
    "  noise = tf.distributions.Normal(loc=0.0, scale=eq_err).sample([batch_size, 2])\n",
    "  next_state = tf.matmul(state, A.T) + tf.matmul(action, B.T) + noise\n",
    "  next_reward = (-tf.reduce_sum(next_state * tf.matmul(next_state, Q.T), 1) \n",
    "                 -tf.reduce_sum(action * tf.matmul(action, R.T), 1))\n",
    "\n",
    "  #### ALGORITHM\n",
    "  with tf.Session() as sess:\n",
    "    sess.run(tf.global_variables_initializer())\n",
    "    for k in range(N):\n",
    "      rs = np.zeros(batch_size)\n",
    "      xs = np.zeros((batch_size, T, d))\n",
    "      us = np.zeros((batch_size, T, p))\n",
    "      x = np.tile(x0.reshape([1, d]), [batch_size, 1])\n",
    "      for t in range(T):\n",
    "        xs[:, t] = x\n",
    "        u, x, r = sess.run([action, next_state, next_reward], \n",
    "                           feed_dict={state: x})\n",
    "        us[:, t] = u\n",
    "        rs += r\n",
    "      rs /= T\n",
    "      sess.run(train_op, feed_dict={\n",
    "          rewards: rs,\n",
    "          states: xs,\n",
    "          actions: us,\n",
    "      })\n",
    "    return sess.run(K)\n",
    "\n",
    "def policy_gradient_adam_linear_policy_ben(A,B,Q,R,x0,eq_err,N,T,\n",
    "    explore_mag = 0.02,step_size = 0.0025, batch_size = 8, lag_baseline = False,\n",
    "    beta1=0.9, beta2=0.999, epsilon=1.0e-8):\n",
    "    '''\n",
    "      Arguments:\n",
    "        state transition matrices (A,B)\n",
    "        LQR Costs (Q,R)\n",
    "        Initial State x0\n",
    "        magnitude of noise in dynamics eq_err\n",
    "        Number of rollouts N\n",
    "        Time Horizon T\n",
    "\n",
    "        hyperparameters\n",
    "           explore_mag magnitude of the noise to explore\n",
    "           step_size\n",
    "           batch_size: number of stochastic gradients per minibatch\n",
    "           beta1, beta2, epsilon are the additional paramters of Adam\n",
    "\n",
    "      Outputs:\n",
    "        Static Control Gain K optimized on LQR cost by Policy Gradient\n",
    "    '''\n",
    "\n",
    "    d,p = B.shape\n",
    "\n",
    "    # initial condition for K\n",
    "    K0 = 0.0*np.random.randn(p,d)\n",
    "    ###\n",
    "\n",
    "    #### ALGORITHM\n",
    "    K = K0\n",
    "    baseline = 0.0\n",
    "    Adam_M = np.zeros((p,d))\n",
    "    Adam_V = np.zeros((p,d))\n",
    "\n",
    "    for k in range(N):\n",
    "      mini_batch = np.zeros((p,d))\n",
    "      mb_store = np.zeros((p,d,batch_size))\n",
    "      reward = np.zeros((batch_size))\n",
    "\n",
    "      # Collect policy gradients for the current minibatch\n",
    "      for j in range(batch_size):\n",
    "        x = x0\n",
    "        X_store = np.zeros((d,T))\n",
    "        V_store = np.zeros((p,T))\n",
    "        for t in range(T):\n",
    "          v = explore_mag*np.random.randn(p,1)\n",
    "          X_store[:,t] = x.flatten()\n",
    "          V_store[:,t] = v.flatten()\n",
    "          u = np.dot(K,x)+v\n",
    "          x = A.dot(x)+B.dot(u)+eq_err*np.random.randn(d,1)\n",
    "          reward[j] += -np.dot(x.T,Q.dot(x))-np.dot(u.T,R.dot(u))\n",
    "        mb_store[:,:,j] = np.dot(V_store,X_store.T)/explore_mag**2 # normalize gradient by variance. Not important.\n",
    "        \n",
    "      reward /= T # normalize rewards by T. Not important.\n",
    "\n",
    "      # Mean of rewards over a minibatch are subtracted from reward. \n",
    "      # This is a heuristic for baseline subtraction. If lag_baseline is True,\n",
    "      # then we use the previous minibatch for the baseline. \n",
    "      # Otherwise, we use the current minibatch\n",
    "      if not lag_baseline:\n",
    "        baseline = np.mean(reward)\n",
    "        \n",
    "      for j in range(batch_size):\n",
    "        mini_batch += ((reward[j]-baseline)/batch_size)*mb_store[:,:,j]\n",
    "        \n",
    "      if lag_baseline:\n",
    "        baseline = np.mean(reward)\n",
    "\n",
    "      # Adam Algorithm  \n",
    "      \n",
    "      Adam_M = beta1*Adam_M + (1-beta1)*mini_batch\n",
    "      Adam_V = beta2*Adam_V + (1-beta2)*(mini_batch*mini_batch)\n",
    "        \n",
    "      effective_step_size = step_size*np.sqrt(1-beta2**(k+1))/(1-beta1**(k+1))\n",
    "      K += effective_step_size*Adam_M/(np.sqrt(Adam_V)+epsilon)\n",
    "    \n",
    "      #       Adam_M_hat = Adam_M/(1-beta1**(k+1))\n",
    "      #       Adam_V_hat = Adam_V/(1-beta2**(k+1))\n",
    "      #       K += step_size*(Adam_M_hat)/(np.sqrt(Adam_V_hat)+epsilon)\n",
    "    return K"
   ]
  },
  {
   "cell_type": "code",
   "execution_count": 3,
   "metadata": {
    "colab": {
     "autoexec": {
      "startup": false,
      "wait_interval": 0
     }
    },
    "colab_type": "code",
    "collapsed": true,
    "id": "_Xg80eLfqlSt"
   },
   "outputs": [],
   "source": [
    "np.random.seed(1337)\n",
    "\n",
    "# state transition matrices for linear system: \n",
    "#     x(t+1) = A x (t) + B u(t)\n",
    "A = np.array([[1.01,0.01,0],[0.01,1.01,0.01],[0.0,0.01,1.01]])\n",
    "B = np.eye(3)\n",
    "d,p = B.shape\n",
    "\n",
    "# LQR quadratic cost per state\n",
    "Q = np.eye(3)\n",
    "\n",
    "# initial condition for system\n",
    "x0 = np.random.randn(3,1)\n",
    "\n",
    "R = 1000*np.eye(3)\n",
    "\n",
    "# number of time steps to simulate\n",
    "T = 100\n",
    "\n",
    "# amount of Gaussian noise in dynamics\n",
    "eq_err = 1.0"
   ]
  },
  {
   "cell_type": "code",
   "execution_count": 4,
   "metadata": {
    "colab": {
     "autoexec": {
      "startup": false,
      "wait_interval": 0
     },
     "height": 85,
     "output_extras": [
      {
       "item_id": 1
      }
     ]
    },
    "colab_type": "code",
    "executionInfo": {
     "elapsed": 271817,
     "status": "ok",
     "timestamp": 1520085967806,
     "user": {
      "displayName": "Paweł Nowak",
      "photoUrl": "//lh5.googleusercontent.com/-8K-_bmbjc-0/AAAAAAAAAAI/AAAAAAAABns/HGikAGiZX9c/s50-c-k-no/photo.jpg",
      "userId": "101849313806694672182"
     },
     "user_tz": -60
    },
    "id": "nw_Vm-uKqlSw",
    "outputId": "44fc6d0f-20eb-4f90-c1c7-a740bc73f9ff"
   },
   "outputs": [
    {
     "name": "stdout",
     "output_type": "stream",
     "text": [
      "[[ 1.0060899   0.02890157 -0.04003236]\n",
      " [ 0.01811646  0.977807    0.01502689]\n",
      " [ 0.0064803   0.03830107  0.93786707]]\n",
      "[[ 1.03370983 -0.03851686  0.05284074]\n",
      " [-0.02613046  1.08991257  0.12648793]\n",
      " [-0.09418694  0.07736949  0.84805014]]\n"
     ]
    }
   ],
   "source": [
    "# N_vals = np.floor(np.linspace(1,75,num=7)).astype(int)\n",
    "N_vals = [5,10,20,30,40,50]\n",
    "N_trials = 10\n",
    "\n",
    "### Bunch of matrices for storing costs\n",
    "J_finite_nom = np.zeros((N_trials,len(N_vals)))\n",
    "J_finite_nomK = np.zeros((N_trials,len(N_vals)))\n",
    "J_finite_pg = np.zeros((N_trials,len(N_vals)))\n",
    "J_finite_rs = np.zeros((N_trials,len(N_vals)))\n",
    "J_inf_nom = np.zeros((N_trials,len(N_vals)))\n",
    "J_inf_pg = np.zeros((N_trials,len(N_vals)))\n",
    "J_inf_rs = np.zeros((N_trials,len(N_vals)))\n",
    "\n",
    "\n",
    "# cost for finite time horizon, true model\n",
    "J_finite_opt = cost_finite_model(A,B,Q,R,x0,T,A,B)\n",
    "\n",
    "### Solve for optimal infinite time horizon LQR controller\n",
    "K_opt = -lqr_gain(A,B,Q,R)\n",
    "# cost for infinite time horizon, true model\n",
    "J_inf_opt = cost_inf_K(A,B,Q,R,K_opt) \n",
    "\n",
    "# cost for zero control\n",
    "baseline = cost_finite_K(A,B,Q,R,x0,T,np.zeros((p,d)))\n",
    "\n",
    "# model for nominal control with 1 rollout\n",
    "A_nom1,B_nom1 = lsqr_estimator(A,B,Q,R,x0,eq_err,1,T)\n",
    "print(A_nom1)\n",
    "print(B_nom1)\n",
    "\n",
    "# cost for finite time horizon, one rollout, nominal control\n",
    "one_rollout_cost = cost_finite_model(A,B,Q,R,x0,T,A_nom1,B_nom1)\n",
    "K_nom1 = -lqr_gain(A_nom1,B_nom1,Q,R)\n",
    "one_rollout_cost_inf = cost_inf_K(A,B,Q,R,K_nom1)\n",
    "\n",
    "for N in range(len(N_vals)):\n",
    "    for trial in range(N_trials):\n",
    "        \n",
    "        # nominal model, N x 40 to match sample budget of policy gradient\n",
    "        A_nom,B_nom = lsqr_estimator(A,B,Q,R,x0,eq_err,N_vals[N]*8,T);\n",
    "        # finite time horizon cost with nominal model\n",
    "        J_finite_nom[trial,N] = 1000*cost_finite_model(A,B,Q,R,x0,T,A_nom,B_nom)\n",
    "        # Solve for infinite time horizon nominal LQR controller\n",
    "        K_nom = -lqr_gain(A_nom,B_nom,Q,R)\n",
    "        # cost of using the infinite time horizon solution for finite time horizon\n",
    "        J_finite_nomK[trial,N] = 1000*cost_finite_K(A,B,Q,R,x0,T,K_nom)\n",
    "        # infinite time horizon cost of nominal model\n",
    "        J_inf_nom[trial,N] = 1000*cost_inf_K(A,B,Q,R,K_nom)\n",
    "\n",
    "        # policy gradient pavel, batchsize 8 per iteration\n",
    "        K_pg = policy_gradient_adam_linear_policy_ben(A,B,Q,R,x0,eq_err,N_vals[N],T,explore_mag = 0.1, step_size = 0.01)\n",
    "        J_finite_pg[trial,N] = cost_finite_K(A,B,Q,R,x0,T,K_pg)\n",
    "        J_inf_pg[trial,N] = cost_inf_K(A,B,Q,R,K_pg)\n",
    "        \n",
    "        # random search, batchsize 4, so uses 8 rollouts per iteration\n",
    "        K_rs = random_search_linear_policy(A,B,Q,R,x0,eq_err,N_vals[N],T)\n",
    "        J_finite_rs[trial,N] = cost_finite_K(A,B,Q,R,x0,T,K_rs)\n",
    "        J_inf_rs[trial,N] = cost_inf_K(A,B,Q,R,K_rs)"
   ]
  },
  {
   "cell_type": "code",
   "execution_count": 5,
   "metadata": {
    "colab": {
     "autoexec": {
      "startup": false,
      "wait_interval": 0
     },
     "height": 417,
     "output_extras": [
      {
       "item_id": 1
      }
     ]
    },
    "colab_type": "code",
    "executionInfo": {
     "elapsed": 542,
     "status": "ok",
     "timestamp": 1520086026143,
     "user": {
      "displayName": "Paweł Nowak",
      "photoUrl": "//lh5.googleusercontent.com/-8K-_bmbjc-0/AAAAAAAAAAI/AAAAAAAABns/HGikAGiZX9c/s50-c-k-no/photo.jpg",
      "userId": "101849313806694672182"
     },
     "user_tz": -60
    },
    "id": "SCZUbeP9qlS0",
    "outputId": "8227fe37-bbc5-47e0-a82d-02a359a17110"
   },
   "outputs": [
    {
     "data": {
      "image/png": "[encoded data removed]",
      "text/plain": [
       "<matplotlib.figure.Figure at 0x18209ad160>"
      ]
     },
     "metadata": {},
     "output_type": "display_data"
    }
   ],
   "source": [
    "colors = [ '#2D328F', '#F15C19',\"#81b13c\",\"#ca49ac\"]\n",
    "          \n",
    "label_fontsize = 18\n",
    "tick_fontsize = 14\n",
    "linewidth = 3\n",
    "markersize = 10\n",
    "\n",
    "tot_samples = 8*np.array(N_vals)\n",
    "\n",
    "plt.plot(tot_samples,np.amin(J_finite_pg,axis=0),'o-',color=colors[0],linewidth=linewidth,\n",
    "         markersize=markersize,label='policy gradient')\n",
    "\n",
    "plt.plot(tot_samples,np.amin(J_finite_rs,axis=0),'s-',color=colors[1],linewidth=linewidth,\n",
    "         markersize=markersize,label='random search')\n",
    "\n",
    "plt.plot([tot_samples[0],tot_samples[-1]],[baseline,baseline],color='#000000',linewidth=linewidth,\n",
    "             linestyle='--',label='zero control')\n",
    "plt.plot([tot_samples[0],tot_samples[-1]],[J_finite_opt,J_finite_opt],color='#000000',linewidth=linewidth,\n",
    "             linestyle=':',label='optimal')\n",
    "\n",
    "plt.axis([80,400,0,*baseline])\n",
    "\n",
    "plt.xlabel('rollouts',fontsize=label_fontsize)\n",
    "plt.ylabel('cost',fontsize=label_fontsize)\n",
    "plt.legend(fontsize=18, bbox_to_anchor=(1.0, 0.54))\n",
    "plt.xticks(fontsize=tick_fontsize)\n",
    "plt.yticks(fontsize=tick_fontsize)\n",
    "plt.grid(True)\n",
    "\n",
    "fig = plt.gcf()\n",
    "fig.set_size_inches(9, 6)\n",
    "\n",
    "plt.show()"
   ]
  },
  {
   "cell_type": "code",
   "execution_count": 6,
   "metadata": {
    "colab": {
     "autoexec": {
      "startup": false,
      "wait_interval": 0
     },
     "height": 417,
     "output_extras": [
      {
       "item_id": 1
      }
     ]
    },
    "colab_type": "code",
    "executionInfo": {
     "elapsed": 540,
     "status": "ok",
     "timestamp": 1520089896351,
     "user": {
      "displayName": "Paweł Nowak",
      "photoUrl": "//lh5.googleusercontent.com/-8K-_bmbjc-0/AAAAAAAAAAI/AAAAAAAABns/HGikAGiZX9c/s50-c-k-no/photo.jpg",
      "userId": "101849313806694672182"
     },
     "user_tz": -60
    },
    "id": "yDAt5fGBqlS3",
    "outputId": "d7bfa970-6528-4211-8965-147962f1aa88"
   },
   "outputs": [
    {
     "data": {
      "image/png": "[encoded data removed]",
      "text/plain": [
       "<matplotlib.figure.Figure at 0x182933eef0>"
      ]
     },
     "metadata": {},
     "output_type": "display_data"
    }
   ],
   "source": [
    "plt.plot(tot_samples,np.median(J_finite_pg,axis=0),'o-',color=colors[0],linewidth=linewidth,\n",
    "         markersize=markersize,label='policy gradient')\n",
    "plt.fill_between(tot_samples, np.amin(J_finite_pg,axis=0), np.amax(J_finite_pg,axis=0), alpha=0.25)\n",
    "\n",
    "\n",
    "plt.plot(tot_samples,np.median(J_finite_rs,axis=0),'s-',color=colors[2],linewidth=linewidth,\n",
    "         markersize=markersize,label='random search')\n",
    "plt.fill_between(tot_samples, np.amin(J_finite_rs,axis=0), np.amax(J_finite_rs,axis=0), alpha=0.25)\n",
    "\n",
    "\n",
    "plt.plot([tot_samples[0],tot_samples[-1]],[baseline, baseline],color='#000000',linewidth=linewidth,\n",
    "             linestyle='--',label='zero control')\n",
    "plt.plot([tot_samples[0],tot_samples[-1]],[J_finite_opt, J_finite_opt],color='#000000',linewidth=linewidth,\n",
    "             linestyle=':',label='optimal')\n",
    "\n",
    "plt.axis([80,400,0,2000])\n",
    "\n",
    "plt.xlabel('rollouts',fontsize=label_fontsize)\n",
    "plt.ylabel('cost',fontsize=label_fontsize)\n",
    "plt.legend(fontsize=18, bbox_to_anchor=(1.0, 0.54))\n",
    "plt.xticks(fontsize=tick_fontsize)\n",
    "plt.yticks(fontsize=tick_fontsize)\n",
    "plt.grid(True)\n",
    "\n",
    "fig = plt.gcf()\n",
    "fig.set_size_inches(9, 6)\n",
    "\n",
    "plt.show()"
   ]
  },
  {
   "cell_type": "code",
   "execution_count": 7,
   "metadata": {
    "colab": {
     "autoexec": {
      "startup": false,
      "wait_interval": 0
     },
     "height": 417,
     "output_extras": [
      {
       "item_id": 1
      }
     ]
    },
    "colab_type": "code",
    "executionInfo": {
     "elapsed": 579,
     "status": "ok",
     "timestamp": 1520089896994,
     "user": {
      "displayName": "Paweł Nowak",
      "photoUrl": "//lh5.googleusercontent.com/-8K-_bmbjc-0/AAAAAAAAAAI/AAAAAAAABns/HGikAGiZX9c/s50-c-k-no/photo.jpg",
      "userId": "101849313806694672182"
     },
     "user_tz": -60
    },
    "id": "6Urc3LnaqlS6",
    "outputId": "d7cf7e14-24a2-475a-e23f-e54ad95ed41b"
   },
   "outputs": [
    {
     "data": {
      "image/png": "[encoded data removed]",
      "text/plain": [
       "<matplotlib.figure.Figure at 0x1118a2748>"
      ]
     },
     "metadata": {},
     "output_type": "display_data"
    }
   ],
   "source": [
    "yclip = 1000\n",
    "\n",
    "plt.plot(tot_samples, np.median(J_inf_pg,axis=0),'o-',color=colors[0],linewidth=linewidth,\n",
    "         markersize=markersize,label='policy gradient')\n",
    "plt.fill_between(tot_samples, np.amin(J_inf_pg,axis=0), np.minimum(np.amax(J_inf_pg,axis=0),yclip), alpha=0.25)\n",
    "\n",
    "plt.plot(tot_samples,np.median(J_inf_rs,axis=0),'s-',color=colors[1],linewidth=linewidth,\n",
    "         markersize=markersize,label='random search')\n",
    "plt.fill_between(tot_samples, np.amin(J_inf_rs,axis=0), np.minimum(np.amax(J_inf_rs,axis=0),yclip), alpha=0.25)\n",
    "\n",
    "plt.plot([tot_samples[0],tot_samples[-1]],[J_inf_opt, J_inf_opt],color='#000000',linewidth=linewidth,\n",
    "             linestyle=':',label='optimal')\n",
    "\n",
    "plt.axis([80,400,0,yclip])\n",
    "\n",
    "plt.xlabel('rollouts',fontsize=label_fontsize)\n",
    "plt.ylabel('cost',fontsize=label_fontsize)\n",
    "plt.legend(fontsize=18, bbox_to_anchor=(1.0, 0.54))\n",
    "plt.xticks(fontsize=tick_fontsize)\n",
    "plt.yticks(fontsize=tick_fontsize)\n",
    "plt.grid(True)\n",
    "\n",
    "fig = plt.gcf()\n",
    "fig.set_size_inches(9, 6)\n",
    "\n",
    "plt.show()"
   ]
  },
  {
   "cell_type": "code",
   "execution_count": 8,
   "metadata": {
    "colab": {
     "autoexec": {
      "startup": false,
      "wait_interval": 0
     },
     "height": 417,
     "output_extras": [
      {
       "item_id": 1
      }
     ]
    },
    "colab_type": "code",
    "executionInfo": {
     "elapsed": 479,
     "status": "ok",
     "timestamp": 1520089897548,
     "user": {
      "displayName": "Paweł Nowak",
      "photoUrl": "//lh5.googleusercontent.com/-8K-_bmbjc-0/AAAAAAAAAAI/AAAAAAAABns/HGikAGiZX9c/s50-c-k-no/photo.jpg",
      "userId": "101849313806694672182"
     },
     "user_tz": -60
    },
    "id": "PoGdiJrzqlS9",
    "outputId": "6e98782b-da7d-4f45-9641-721775769504"
   },
   "outputs": [
    {
     "data": {
      "image/png": "[encoded data removed]",
      "text/plain": [
       "<matplotlib.figure.Figure at 0x182935be10>"
      ]
     },
     "metadata": {},
     "output_type": "display_data"
    }
   ],
   "source": [
    "plt.plot(tot_samples,1-np.sum(np.isinf(J_inf_pg),axis=0)/10,'o-',color=colors[0],linewidth=linewidth,\n",
    "         markersize=markersize,label='policy gradient')\n",
    "\n",
    "plt.plot(tot_samples,1-np.sum(np.isinf(J_inf_rs),axis=0)/10,'>-',color=colors[1],linewidth=linewidth,\n",
    "         markersize=markersize,label='random search')\n",
    "\n",
    "plt.plot(tot_samples,1-np.sum(np.isinf(J_inf_nom),axis=0)/10,'>-',color=colors[2],linewidth=linewidth,\n",
    "         markersize=markersize,label='random search')\n",
    "\n",
    "\n",
    "plt.axis([80,400,0,1])\n",
    "\n",
    "plt.xlabel('rollouts',fontsize=label_fontsize)\n",
    "plt.ylabel('fraction stable',fontsize=label_fontsize)\n",
    "plt.legend(fontsize=18, bbox_to_anchor=(1.0, 0.54))\n",
    "plt.xticks(fontsize=tick_fontsize)\n",
    "plt.yticks(fontsize=tick_fontsize)\n",
    "plt.grid(True)\n",
    "\n",
    "fig = plt.gcf()\n",
    "fig.set_size_inches(9, 6)\n",
    "\n",
    "plt.show()"
   ]
  },
  {
   "cell_type": "code",
   "execution_count": 9,
   "metadata": {
    "colab": {
     "autoexec": {
      "startup": false,
      "wait_interval": 0
     },
     "height": 34,
     "output_extras": [
      {
       "item_id": 1
      }
     ]
    },
    "colab_type": "code",
    "executionInfo": {
     "elapsed": 220,
     "status": "ok",
     "timestamp": 1520089898474,
     "user": {
      "displayName": "Paweł Nowak",
      "photoUrl": "//lh5.googleusercontent.com/-8K-_bmbjc-0/AAAAAAAAAAI/AAAAAAAABns/HGikAGiZX9c/s50-c-k-no/photo.jpg",
      "userId": "101849313806694672182"
     },
     "user_tz": -60
    },
    "id": "wihub68bqlTA",
    "outputId": "f3a887bb-5d7d-4500-80e8-4ed10f16a266"
   },
   "outputs": [
    {
     "data": {
      "text/plain": [
       "46.306420715048787"
      ]
     },
     "execution_count": 9,
     "metadata": {},
     "output_type": "execute_result"
    }
   ],
   "source": [
    "one_rollout_cost-J_finite_opt"
   ]
  },
  {
   "cell_type": "code",
   "execution_count": 10,
   "metadata": {
    "colab": {
     "autoexec": {
      "startup": false,
      "wait_interval": 0
     },
     "height": 34,
     "output_extras": [
      {
       "item_id": 1
      }
     ]
    },
    "colab_type": "code",
    "executionInfo": {
     "elapsed": 200,
     "status": "ok",
     "timestamp": 1520089898762,
     "user": {
      "displayName": "Paweł Nowak",
      "photoUrl": "//lh5.googleusercontent.com/-8K-_bmbjc-0/AAAAAAAAAAI/AAAAAAAABns/HGikAGiZX9c/s50-c-k-no/photo.jpg",
      "userId": "101849313806694672182"
     },
     "user_tz": -60
    },
    "id": "L66hjMEVqlTD",
    "outputId": "ad2ec5da-ccd3-45ce-ee54-8d612a58c71a"
   },
   "outputs": [
    {
     "data": {
      "text/plain": [
       "inf"
      ]
     },
     "execution_count": 10,
     "metadata": {},
     "output_type": "execute_result"
    }
   ],
   "source": [
    "one_rollout_cost_inf-J_inf_opt"
   ]
  },
  {
   "cell_type": "code",
   "execution_count": 11,
   "metadata": {},
   "outputs": [
    {
     "data": {
      "text/plain": [
       "array([ 1.60170865,  1.60225736,  1.62681654,  1.60376096,  2.907627  ,\n",
       "        1.60770935,  1.7289377 ,  1.71475117,  1.60131019,  1.6400295 ])"
      ]
     },
     "execution_count": 11,
     "metadata": {},
     "output_type": "execute_result"
    }
   ],
   "source": [
    "J_finite_ben[:,7]"
   ]
  },
  {
   "cell_type": "code",
   "execution_count": 12,
   "metadata": {},
   "outputs": [
    {
     "data": {
      "text/plain": [
       "array([ 1.60351082,  1.62005508,  1.62074781,  1.61415064,  1.60632606,\n",
       "        1.61238108,  1.60382975,  1.60399489,  1.61449011,  1.60684641])"
      ]
     },
     "execution_count": 12,
     "metadata": {},
     "output_type": "execute_result"
    }
   ],
   "source": [
    "J_finite_pavel[:,7]"
   ]
  },
  {
   "cell_type": "code",
   "execution_count": 5,
   "metadata": {},
   "outputs": [
    {
     "data": {
      "text/plain": [
       "array([[ 1.01,  0.01,  0.  ],\n",
       "       [ 0.01,  1.01,  0.01],\n",
       "       [ 0.  ,  0.01,  1.01]])"
      ]
     },
     "execution_count": 5,
     "metadata": {},
     "output_type": "execute_result"
    }
   ],
   "source": [
    "A"
   ]
  },
  {
   "cell_type": "code",
   "execution_count": 6,
   "metadata": {},
   "outputs": [
    {
     "data": {
      "text/plain": [
       "array([[ 1.,  0.,  0.],\n",
       "       [ 0.,  1.,  0.],\n",
       "       [ 0.,  0.,  1.]])"
      ]
     },
     "execution_count": 6,
     "metadata": {},
     "output_type": "execute_result"
    }
   ],
   "source": [
    "B"
   ]
  },
  {
   "cell_type": "code",
   "execution_count": 7,
   "metadata": {},
   "outputs": [
    {
     "data": {
      "text/plain": [
       "3"
      ]
     },
     "execution_count": 7,
     "metadata": {},
     "output_type": "execute_result"
    }
   ],
   "source": [
    "d"
   ]
  },
  {
   "cell_type": "code",
   "execution_count": 8,
   "metadata": {},
   "outputs": [
    {
     "data": {
      "text/plain": [
       "3"
      ]
     },
     "execution_count": 8,
     "metadata": {},
     "output_type": "execute_result"
    }
   ],
   "source": [
    "p"
   ]
  },
  {
   "cell_type": "code",
   "execution_count": 9,
   "metadata": {},
   "outputs": [
    {
     "data": {
      "text/plain": [
       "array([[ 0.001,  0.   ,  0.   ],\n",
       "       [ 0.   ,  0.001,  0.   ],\n",
       "       [ 0.   ,  0.   ,  0.001]])"
      ]
     },
     "execution_count": 9,
     "metadata": {},
     "output_type": "execute_result"
    }
   ],
   "source": [
    "Q"
   ]
  },
  {
   "cell_type": "code",
   "execution_count": 10,
   "metadata": {},
   "outputs": [
    {
     "data": {
      "text/plain": [
       "array([[ 1.,  0.,  0.],\n",
       "       [ 0.,  1.,  0.],\n",
       "       [ 0.,  0.,  1.]])"
      ]
     },
     "execution_count": 10,
     "metadata": {},
     "output_type": "execute_result"
    }
   ],
   "source": [
    "R"
   ]
  },
  {
   "cell_type": "code",
   "execution_count": 15,
   "metadata": {},
   "outputs": [
    {
     "data": {
      "text/plain": [
       "array([ 1.87967233])"
      ]
     },
     "execution_count": 15,
     "metadata": {},
     "output_type": "execute_result"
    }
   ],
   "source": [
    "baseline"
   ]
  },
  {
   "cell_type": "code",
   "execution_count": 76,
   "metadata": {},
   "outputs": [
    {
     "data": {
      "text/plain": [
       "array([[        inf,         inf,         inf,         inf,         inf,\n",
       "                inf,         inf],\n",
       "       [        inf,         inf,         inf,         inf,         inf,\n",
       "                inf,         inf],\n",
       "       [        inf,         inf,         inf,         inf,         inf,\n",
       "                inf,         inf],\n",
       "       [        inf,         inf,         inf,         inf,         inf,\n",
       "                inf,         inf],\n",
       "       [        inf,         inf,         inf,         inf,         inf,\n",
       "                inf,         inf],\n",
       "       [        inf,         inf,         inf,         inf,         inf,\n",
       "                inf,  5.19204246],\n",
       "       [        inf,         inf,         inf,         inf,         inf,\n",
       "                inf,         inf],\n",
       "       [        inf,         inf,         inf,         inf,         inf,\n",
       "                inf,  0.29044947],\n",
       "       [        inf,         inf,         inf,         inf,         inf,\n",
       "                inf,         inf],\n",
       "       [        inf,         inf,         inf,         inf,         inf,\n",
       "                inf,         inf]])"
      ]
     },
     "execution_count": 76,
     "metadata": {},
     "output_type": "execute_result"
    }
   ],
   "source": [
    "J_inf_pg"
   ]
  },
  {
   "cell_type": "code",
   "execution_count": 38,
   "metadata": {},
   "outputs": [
    {
     "data": {
      "text/plain": [
       "array([[ -9.07448602e-04,  -1.09955154e-03,   8.19108686e-05],\n",
       "       [ -8.69368680e-04,  -2.00182042e-03,  -3.17370505e-04],\n",
       "       [  2.23703612e-04,  -3.31350815e-04,  -1.63014787e-03]])"
      ]
     },
     "execution_count": 38,
     "metadata": {},
     "output_type": "execute_result"
    }
   ],
   "source": [
    "K_rs"
   ]
  },
  {
   "cell_type": "code",
   "execution_count": 45,
   "metadata": {},
   "outputs": [
    {
     "data": {
      "text/plain": [
       "array([ 1.02578657+0.j,  1.01126928+0.j,  0.99748357+0.j])"
      ]
     },
     "execution_count": 45,
     "metadata": {},
     "output_type": "execute_result"
    }
   ],
   "source": [
    "LA.eigvals(A-B*K_rs)"
   ]
  },
  {
   "cell_type": "code",
   "execution_count": null,
   "metadata": {
    "collapsed": true
   },
   "outputs": [],
   "source": []
  }
 ],
 "metadata": {
  "colab": {
   "collapsed_sections": [],
   "default_view": {},
   "last_runtime": {
    "kind": "private"
   },
   "name": "lqr_policy_comparisons.ipynb",
   "provenance": [],
   "version": "0.3.2",
   "views": {}
  },
  "kernelspec": {
   "display_name": "Python 3",
   "language": "python",
   "name": "python3"
  },
  "language_info": {
   "codemirror_mode": {
    "name": "ipython",
    "version": 3
   },
   "file_extension": ".py",
   "mimetype": "text/x-python",
   "name": "python",
   "nbconvert_exporter": "python",
   "pygments_lexer": "ipython3",
   "version": "3.6.3"
  }
 },
 "nbformat": 4,
 "nbformat_minor": 1
}
