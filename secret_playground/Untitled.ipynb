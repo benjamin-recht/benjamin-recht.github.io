{
 "cells": [
  {
   "cell_type": "code",
   "execution_count": 16,
   "metadata": {},
   "outputs": [
    {
     "name": "stdout",
     "output_type": "stream",
     "text": [
      "u=1\n",
      "0.9111111111111111\n",
      "u=1\n",
      "0.9220867208672087\n",
      "u=1\n",
      "0.9329316878032851\n",
      "u=1\n",
      "0.9436505862293277\n",
      "u=1\n",
      "0.9542477290128217\n",
      "u=1\n",
      "0.9647271880630885\n",
      "u=1\n",
      "0.9750928127948609\n",
      "u=1\n",
      "0.9853482468097394\n",
      "u=1\n",
      "0.9954969430015447\n",
      "u=1\n",
      "1\n"
     ]
    }
   ],
   "source": [
    "import numpy as np\n",
    "\n",
    "x = 0.9\n",
    "T = 10\n",
    "R1 = 1\n",
    "R0 = 100\n",
    "\n",
    "for t in range(T):\n",
    "    u = np.random.binomial(1,x)\n",
    "    print(\"u=%d\" % u)\n",
    "    if u==1:\n",
    "        G = R1/x\n",
    "    else:\n",
    "        G = -R0/(1-x)\n",
    "    x += .01*G\n",
    "    x = min(max(x,0),1)\n",
    "    print(x)"
   ]
  },
  {
   "cell_type": "code",
   "execution_count": 11,
   "metadata": {},
   "outputs": [
    {
     "data": {
      "text/plain": [
       "9"
      ]
     },
     "execution_count": 11,
     "metadata": {},
     "output_type": "execute_result"
    }
   ],
   "source": [
    "t"
   ]
  },
  {
   "cell_type": "code",
   "execution_count": null,
   "metadata": {
    "collapsed": true
   },
   "outputs": [],
   "source": []
  }
 ],
 "metadata": {
  "kernelspec": {
   "display_name": "Python 3",
   "language": "python",
   "name": "python3"
  },
  "language_info": {
   "codemirror_mode": {
    "name": "ipython",
    "version": 3
   },
   "file_extension": ".py",
   "mimetype": "text/x-python",
   "name": "python",
   "nbconvert_exporter": "python",
   "pygments_lexer": "ipython3",
   "version": "3.6.3"
  }
 },
 "nbformat": 4,
 "nbformat_minor": 2
}
